{
 "cells": [
  {
   "cell_type": "code",
   "execution_count": 7,
   "metadata": {
    "collapsed": false
   },
   "outputs": [
    {
     "name": "stdout",
     "output_type": "stream",
     "text": [
      "Hello, world!\n"
     ]
    }
   ],
   "source": [
    "print 'Hello, world!'"
   ]
  },
  {
   "cell_type": "markdown",
   "metadata": {},
   "source": [
    "1. I want to understand the Python language syntacsys\n",
    "2. I want to know how need to use the commands\n",
    "3. I want to write by Phython"
   ]
  },
  {
   "cell_type": "markdown",
   "metadata": {},
   "source": [
    "Задание 2.1 \n",
    "Процентная ставка по банковскому вкладу составляет p = 8%, капитализация происходит f = 12 раз в год. Сумма вклада составляет S = 200000 рублей. Прибыль по вкладу за L = 5 лет:"
   ]
  },
  {
   "cell_type": "code",
   "execution_count": 6,
   "metadata": {
    "collapsed": false
   },
   "outputs": [
    {
     "data": {
      "text/plain": [
       "97969.14166032098"
      ]
     },
     "execution_count": 6,
     "metadata": {},
     "output_type": "execute_result"
    }
   ],
   "source": [
    "200000*((1+8.0/(100*12))**(12*5))-200000"
   ]
  },
  {
   "cell_type": "markdown",
   "metadata": {},
   "source": [
    "Задание 3.1 \n",
    "Повтороение задания 2.1 и использоанием переменных p, f, S, L:"
   ]
  },
  {
   "cell_type": "code",
   "execution_count": 16,
   "metadata": {
    "collapsed": false
   },
   "outputs": [
    {
     "name": "stdout",
     "output_type": "stream",
     "text": [
      "97969.1416603\n"
     ]
    }
   ],
   "source": [
    "# процентная ставка\n",
    "p = 8.0\n",
    "\n",
    "# сколько раз в год происходит капитализация\n",
    "f = 12\n",
    "\n",
    "# сумма вклада\n",
    "S = 200000.0\n",
    "\n",
    "# количество лет\n",
    "L = 5\n",
    "\n",
    "print S*((1+p/(100*f))**(f*L))-S"
   ]
  },
  {
   "cell_type": "code",
   "execution_count": 17,
   "metadata": {
    "collapsed": false
   },
   "outputs": [
    {
     "name": "stdout",
     "output_type": "stream",
     "text": [
      "93865.61536\n"
     ]
    }
   ],
   "source": [
    "# процентная ставка\n",
    "p = 8.0\n",
    "\n",
    "# сколько раз в год происходит капитализация\n",
    "f = 1\n",
    "\n",
    "# сумма вклада\n",
    "S = 200000.0\n",
    "\n",
    "# количество лет\n",
    "L = 5\n",
    "\n",
    "print S*((1+p/(100*f))**(f*L))-S"
   ]
  }
 ],
 "metadata": {
  "kernelspec": {
   "display_name": "Python 2",
   "language": "python",
   "name": "python2"
  },
  "language_info": {
   "codemirror_mode": {
    "name": "ipython",
    "version": 2
   },
   "file_extension": ".py",
   "mimetype": "text/x-python",
   "name": "python",
   "nbconvert_exporter": "python",
   "pygments_lexer": "ipython2",
   "version": "2.7.13"
  }
 },
 "nbformat": 4,
 "nbformat_minor": 2
}
